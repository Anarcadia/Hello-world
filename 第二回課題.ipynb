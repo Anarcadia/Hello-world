{
 "cells": [
  {
   "cell_type": "code",
   "execution_count": 201,
   "metadata": {},
   "outputs": [
    {
     "name": "stdout",
     "output_type": "stream",
     "text": [
      "ジャーナリズムの数:11\n",
      "ジャーナリストの数:16\n"
     ]
    }
   ],
   "source": [
    "#課題１\n",
    "fp = open('wsdj.txt', 'r', encoding='utf-8')\n",
    "tmp_read = fp.read()\n",
    "# print(tmp_read)\n",
    "fp.close()\n",
    "a = tmp_read.count('ジャーナリズム')\n",
    "b = tmp_read.count('ジャーナリスト')\n",
    "print('ジャーナリズムの数:'+str(a))\n",
    "print('ジャーナリストの数:'+str(b))"
   ]
  },
  {
   "cell_type": "code",
   "execution_count": 219,
   "metadata": {},
   "outputs": [],
   "source": [
    "#課題2\n",
    "import csv\n",
    "list_kantou = ['茨城県', '栃木県', '群馬県', '埼玉県', '千葉県', '東京都', '神奈川県']\n",
    "list_tmp = []\n",
    "csv_r_2 = csv.reader(open('c01-2.csv', 'r', encoding='utf-8'), delimiter=',')\n",
    "\n",
    "for c in csv_r_2:\n",
    "    if len(c) < 9: continue\n",
    "    if c[1] in list_kantou and int(c[4]) in range(1930, 2016):\n",
    "        tmprow = []\n",
    "        tmprow.append(c[1])\n",
    "        tmprow.append(c[4])\n",
    "        tmprow.append(c[7])\n",
    "        tmprow.append(c[8])\n",
    "        tmprow.append(c[6])\n",
    "        list_tmp.append(tmprow)\n",
    "    csv_w_2 = csv.writer(open('c01-cmy.csv', 'w', encoding='utf-8'),\n",
    "                         delimiter='\\t')\n",
    "    csv_w_2.writerow(['都道府県', '年', '男性人口', '女性人口', '男女合計の人口'])\n",
    "    csv_w_2.writerows(list_tmp)"
   ]
  }
 ],
 "metadata": {
  "kernelspec": {
   "display_name": "Python 3",
   "language": "python",
   "name": "python3"
  },
  "language_info": {
   "codemirror_mode": {
    "name": "ipython",
    "version": 3
   },
   "file_extension": ".py",
   "mimetype": "text/x-python",
   "name": "python",
   "nbconvert_exporter": "python",
   "pygments_lexer": "ipython3",
   "version": "3.7.1"
  }
 },
 "nbformat": 4,
 "nbformat_minor": 2
}
